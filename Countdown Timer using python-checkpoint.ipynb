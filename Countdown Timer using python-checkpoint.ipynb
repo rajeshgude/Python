{
 "cells": [
  {
   "cell_type": "markdown",
   "id": "ace1f5f9",
   "metadata": {},
   "source": [
    "# Countdown Timer"
   ]
  },
  {
   "cell_type": "raw",
   "id": "c7ac4760",
   "metadata": {},
   "source": [
    "In this project, we will be using the time module and its sleep() function. Follow the below steps to create a countdown timer:\n",
    "\n",
    "Step 1: Import the time module.\n",
    "Step 2: Then ask the user to input the length of the countdown in seconds.\n",
    "Step 3: This value is sent as a parameter ‘t’ to the user-defined function countdown(). Any variable read using the input           function is a string. So, convert this parameter to ‘int’ as it is of string type.\n",
    "Step 4: In this function, a while loop runs until time becomes 0.\n",
    "Step 5: Use divmod() to calculate the number of minutes and seconds. You can read more about it here.\n",
    "Step 6: Now print the minutes and seconds on the screen using the variable timeformat.\n",
    "Step 7: Using end = ‘\\r’ we force the cursor to go back to the start of the screen (carriage return) so that the next line         printed will overwrite the previous one.\n",
    "Step 8: The time.sleep() is used to make the code wait for one sec.\n",
    "Step 9: Now decrement time so that the while loop can converge.\n",
    "Step 10: After the completion of the loop, we will print “Fire in the hole” to signify the end of the countdown."
   ]
  },
  {
   "cell_type": "code",
   "execution_count": null,
   "id": "9a5e89bf",
   "metadata": {},
   "outputs": [
    {
     "name": "stdout",
     "output_type": "stream",
     "text": [
      "Enter the time in seconds: 100\n",
      "00:17\r"
     ]
    }
   ],
   "source": [
    "import time\n",
    "def countdown(t):\n",
    "    while t:\n",
    "        mins,secs=divmod(t,60)\n",
    "        timer = '{:02d}:{:02d}'.format(mins,secs)\n",
    "        print(timer,end='\\r')\n",
    "        time.sleep(1)\n",
    "        t-=1\n",
    "    print('Fire in the hole!!')\n",
    "t=input('Enter the time in seconds: ')\n",
    "countdown(int(t))"
   ]
  },
  {
   "cell_type": "code",
   "execution_count": null,
   "id": "db83e4b5",
   "metadata": {},
   "outputs": [],
   "source": []
  },
  {
   "cell_type": "code",
   "execution_count": null,
   "id": "f5b41d2f",
   "metadata": {},
   "outputs": [],
   "source": []
  }
 ],
 "metadata": {
  "kernelspec": {
   "display_name": "Python 3 (ipykernel)",
   "language": "python",
   "name": "python3"
  },
  "language_info": {
   "codemirror_mode": {
    "name": "ipython",
    "version": 3
   },
   "file_extension": ".py",
   "mimetype": "text/x-python",
   "name": "python",
   "nbconvert_exporter": "python",
   "pygments_lexer": "ipython3",
   "version": "3.11.5"
  }
 },
 "nbformat": 4,
 "nbformat_minor": 5
}
